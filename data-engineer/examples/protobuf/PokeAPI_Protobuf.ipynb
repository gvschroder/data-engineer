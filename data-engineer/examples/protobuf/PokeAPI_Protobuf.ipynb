{
  "nbformat": 4,
  "nbformat_minor": 0,
  "metadata": {
    "colab": {
      "provenance": [],
      "authorship_tag": "ABX9TyMFQA1lxWgWmXf0+NGpb1qz"
    },
    "kernelspec": {
      "name": "python3",
      "display_name": "Python 3"
    },
    "language_info": {
      "name": "python"
    }
  },
  "cells": [
    {
      "cell_type": "markdown",
      "source": [
        "# Criar a estrutura do arquivo pokedex.proto"
      ],
      "metadata": {
        "id": "B5ImtVXdUETa"
      }
    },
    {
      "cell_type": "code",
      "source": [
        "proto_file = \"\"\"\n",
        "syntax = \"proto3\";\n",
        "\n",
        "message Pokemon {\n",
        "    message Type {\n",
        "        string name = 1;\n",
        "        string url = 2;\n",
        "    }\n",
        "\n",
        "    message Types {\n",
        "        uint32 slot = 1;\n",
        "        Type type = 2;\n",
        "    }\n",
        "\n",
        "    uint32 id = 1;\n",
        "    string name = 2;\n",
        "    uint32 order = 3;\n",
        "    uint32 height = 4;\n",
        "    uint32 weight = 5;\n",
        "    uint32 base_experience = 6;\n",
        "    repeated Types types = 7;\n",
        "}\n",
        "\n",
        "message Pokedex {\n",
        "    repeated Pokemon pokemon = 1;\n",
        "}\n",
        "\"\"\"\n",
        "\n",
        "with open('pokedex.proto', '+w') as f:\n",
        "    f.write(proto_file)"
      ],
      "metadata": {
        "id": "qNAU6idR3Loq"
      },
      "execution_count": 1,
      "outputs": []
    },
    {
      "cell_type": "markdown",
      "source": [
        "# Build do arquivo pokedex.proto"
      ],
      "metadata": {
        "id": "rf3gWytJUUuZ"
      }
    },
    {
      "cell_type": "code",
      "source": [
        "%%sh\n",
        "INPUT_DIR=\"/content\"\n",
        "INPUT_FILE=\"$INPUT_DIR/pokedex.proto\"\n",
        "OUTPUT_DIR=\"/content\"\n",
        "\n",
        "protoc --proto_path=$INPUT_DIR --python_out=$OUTPUT_DIR $INPUT_FILE"
      ],
      "metadata": {
        "id": "p71DkE7PEisY"
      },
      "execution_count": 4,
      "outputs": []
    },
    {
      "cell_type": "markdown",
      "source": [
        "# Importação de pacotes"
      ],
      "metadata": {
        "id": "AliPFLZqUsO4"
      }
    },
    {
      "cell_type": "code",
      "source": [
        "import sys\n",
        "sys.path.append(\"/content\")\n",
        "\n",
        "import os\n",
        "import json \n",
        "from datetime import datetime\n",
        "from io import StringIO, BytesIO\n",
        "\n",
        "import pandas as pd\n",
        "import requests\n",
        "from google.protobuf.json_format import MessageToJson\n",
        "from pokedex_pb2 import Pokedex"
      ],
      "metadata": {
        "id": "tN_fShjWMVdP"
      },
      "execution_count": 79,
      "outputs": []
    },
    {
      "cell_type": "markdown",
      "source": [
        "# Criar lista de pokemons realizando consumo da pokeapi"
      ],
      "metadata": {
        "id": "zzjV0OKCWL3R"
      }
    },
    {
      "cell_type": "code",
      "source": [
        "def clean_data(pokemon_json):\n",
        "    for key in ['abilities', 'forms', 'game_indices', 'held_items', 'moves', \n",
        "                'sprites', 'stats', 'past_types', 'location_area_encounters', \n",
        "                'is_default', 'species']:\n",
        "        del pokemon_json[key]\n",
        "    return pokemon_json\n",
        "\n",
        "def get_pokemons(first_id=1, last_id=1):\n",
        "    pokemons = []\n",
        "    for id in range(first_id, last_id + 1):\n",
        "        response = requests.get(f'https://pokeapi.co/api/v2/pokemon/{id}')\n",
        "        pokemons.append(clean_data(response.json()))\n",
        "    return pokemons\n",
        "\n",
        "pokemons = get_pokemons(1, 151)\n",
        "print(f\"{StringIO(json.dumps(pokemons)).seek(0, os.SEEK_END)} bytes\")\n"
      ],
      "metadata": {
        "colab": {
          "base_uri": "https://localhost:8080/"
        },
        "id": "Zo-LXFd-ofSM",
        "outputId": "b4ec85a1-f794-4e7d-a910-8f905b526a0e"
      },
      "execution_count": 95,
      "outputs": [
        {
          "output_type": "stream",
          "name": "stdout",
          "text": [
            " 34859 bytes\n"
          ]
        }
      ]
    },
    {
      "cell_type": "markdown",
      "source": [
        "# Serializar lista de pokemons para objeto `pokedex` e escrever arquivo `pokedex.data`"
      ],
      "metadata": {
        "id": "6PHzyH2yWu9-"
      }
    },
    {
      "cell_type": "code",
      "source": [
        "pokedex = Pokedex(pokemon=pokemons)\n",
        "print(pokedex.ByteSize(), 'bytes')\n",
        "\n",
        "with open('pokedex.data', \"wb\") as f:\n",
        "    f.write(pokedex.SerializeToString())"
      ],
      "metadata": {
        "colab": {
          "base_uri": "https://localhost:8080/"
        },
        "id": "6wftpyX3HdWt",
        "outputId": "306b8cfe-99f6-46a3-b533-07e54be830de"
      },
      "execution_count": 96,
      "outputs": [
        {
          "output_type": "stream",
          "name": "stdout",
          "text": [
            "14175 bytes\n"
          ]
        }
      ]
    },
    {
      "cell_type": "markdown",
      "source": [
        "# Ler arquivo `pokedex.data`"
      ],
      "metadata": {
        "id": "qaYwp374XlY1"
      }
    },
    {
      "cell_type": "code",
      "source": [
        "pokedex = Pokedex()\n",
        "with open('pokedex.data', \"rb\") as f:\n",
        "    pokedex.ParseFromString(f.read())\n",
        "print(pokedex.ByteSize(), 'bytes')\n",
        "print('\\nSample Pokemon\\n==============')\n",
        "print(pokedex.pokemon[1])\n"
      ],
      "metadata": {
        "colab": {
          "base_uri": "https://localhost:8080/"
        },
        "id": "SPJNzUXoLdUm",
        "outputId": "fed08863-3ee5-4b7e-bedd-f8e7c52f79d7"
      },
      "execution_count": 97,
      "outputs": [
        {
          "output_type": "stream",
          "name": "stdout",
          "text": [
            "14175 bytes\n",
            "\n",
            "Sample Pokemon\n",
            "==============\n",
            "id: 2\n",
            "name: \"ivysaur\"\n",
            "order: 2\n",
            "height: 10\n",
            "weight: 130\n",
            "base_experience: 142\n",
            "types {\n",
            "  slot: 1\n",
            "  type {\n",
            "    name: \"grass\"\n",
            "    url: \"https://pokeapi.co/api/v2/type/12/\"\n",
            "  }\n",
            "}\n",
            "types {\n",
            "  slot: 2\n",
            "  type {\n",
            "    name: \"poison\"\n",
            "    url: \"https://pokeapi.co/api/v2/type/4/\"\n",
            "  }\n",
            "}\n",
            "\n"
          ]
        }
      ]
    },
    {
      "cell_type": "markdown",
      "source": [
        "# Converter `proto` para dataframe `pandas`"
      ],
      "metadata": {
        "id": "BU7RM_TsYahV"
      }
    },
    {
      "cell_type": "code",
      "source": [
        "# Método 1\n",
        "df = pd.DataFrame.from_dict(\n",
        "        json.loads(MessageToJson(pokedex)\n",
        "    ), orient='columns'\n",
        ")\n",
        "display(df.head(5))"
      ],
      "metadata": {
        "colab": {
          "base_uri": "https://localhost:8080/",
          "height": 206
        },
        "id": "adPlSLBENZkr",
        "outputId": "fe56cc9b-4966-422c-8d26-21ff3a6470b7"
      },
      "execution_count": 98,
      "outputs": [
        {
          "output_type": "display_data",
          "data": {
            "text/plain": [
              "                                             pokemon\n",
              "0  {'id': 1, 'name': 'bulbasaur', 'order': 1, 'he...\n",
              "1  {'id': 2, 'name': 'ivysaur', 'order': 2, 'heig...\n",
              "2  {'id': 3, 'name': 'venusaur', 'order': 3, 'hei...\n",
              "3  {'id': 4, 'name': 'charmander', 'order': 5, 'h...\n",
              "4  {'id': 5, 'name': 'charmeleon', 'order': 6, 'h..."
            ],
            "text/html": [
              "\n",
              "  <div id=\"df-ae31c009-120d-4021-8bfe-9f1eaeff661d\">\n",
              "    <div class=\"colab-df-container\">\n",
              "      <div>\n",
              "<style scoped>\n",
              "    .dataframe tbody tr th:only-of-type {\n",
              "        vertical-align: middle;\n",
              "    }\n",
              "\n",
              "    .dataframe tbody tr th {\n",
              "        vertical-align: top;\n",
              "    }\n",
              "\n",
              "    .dataframe thead th {\n",
              "        text-align: right;\n",
              "    }\n",
              "</style>\n",
              "<table border=\"1\" class=\"dataframe\">\n",
              "  <thead>\n",
              "    <tr style=\"text-align: right;\">\n",
              "      <th></th>\n",
              "      <th>pokemon</th>\n",
              "    </tr>\n",
              "  </thead>\n",
              "  <tbody>\n",
              "    <tr>\n",
              "      <th>0</th>\n",
              "      <td>{'id': 1, 'name': 'bulbasaur', 'order': 1, 'he...</td>\n",
              "    </tr>\n",
              "    <tr>\n",
              "      <th>1</th>\n",
              "      <td>{'id': 2, 'name': 'ivysaur', 'order': 2, 'heig...</td>\n",
              "    </tr>\n",
              "    <tr>\n",
              "      <th>2</th>\n",
              "      <td>{'id': 3, 'name': 'venusaur', 'order': 3, 'hei...</td>\n",
              "    </tr>\n",
              "    <tr>\n",
              "      <th>3</th>\n",
              "      <td>{'id': 4, 'name': 'charmander', 'order': 5, 'h...</td>\n",
              "    </tr>\n",
              "    <tr>\n",
              "      <th>4</th>\n",
              "      <td>{'id': 5, 'name': 'charmeleon', 'order': 6, 'h...</td>\n",
              "    </tr>\n",
              "  </tbody>\n",
              "</table>\n",
              "</div>\n",
              "      <button class=\"colab-df-convert\" onclick=\"convertToInteractive('df-ae31c009-120d-4021-8bfe-9f1eaeff661d')\"\n",
              "              title=\"Convert this dataframe to an interactive table.\"\n",
              "              style=\"display:none;\">\n",
              "        \n",
              "  <svg xmlns=\"http://www.w3.org/2000/svg\" height=\"24px\"viewBox=\"0 0 24 24\"\n",
              "       width=\"24px\">\n",
              "    <path d=\"M0 0h24v24H0V0z\" fill=\"none\"/>\n",
              "    <path d=\"M18.56 5.44l.94 2.06.94-2.06 2.06-.94-2.06-.94-.94-2.06-.94 2.06-2.06.94zm-11 1L8.5 8.5l.94-2.06 2.06-.94-2.06-.94L8.5 2.5l-.94 2.06-2.06.94zm10 10l.94 2.06.94-2.06 2.06-.94-2.06-.94-.94-2.06-.94 2.06-2.06.94z\"/><path d=\"M17.41 7.96l-1.37-1.37c-.4-.4-.92-.59-1.43-.59-.52 0-1.04.2-1.43.59L10.3 9.45l-7.72 7.72c-.78.78-.78 2.05 0 2.83L4 21.41c.39.39.9.59 1.41.59.51 0 1.02-.2 1.41-.59l7.78-7.78 2.81-2.81c.8-.78.8-2.07 0-2.86zM5.41 20L4 18.59l7.72-7.72 1.47 1.35L5.41 20z\"/>\n",
              "  </svg>\n",
              "      </button>\n",
              "      \n",
              "  <style>\n",
              "    .colab-df-container {\n",
              "      display:flex;\n",
              "      flex-wrap:wrap;\n",
              "      gap: 12px;\n",
              "    }\n",
              "\n",
              "    .colab-df-convert {\n",
              "      background-color: #E8F0FE;\n",
              "      border: none;\n",
              "      border-radius: 50%;\n",
              "      cursor: pointer;\n",
              "      display: none;\n",
              "      fill: #1967D2;\n",
              "      height: 32px;\n",
              "      padding: 0 0 0 0;\n",
              "      width: 32px;\n",
              "    }\n",
              "\n",
              "    .colab-df-convert:hover {\n",
              "      background-color: #E2EBFA;\n",
              "      box-shadow: 0px 1px 2px rgba(60, 64, 67, 0.3), 0px 1px 3px 1px rgba(60, 64, 67, 0.15);\n",
              "      fill: #174EA6;\n",
              "    }\n",
              "\n",
              "    [theme=dark] .colab-df-convert {\n",
              "      background-color: #3B4455;\n",
              "      fill: #D2E3FC;\n",
              "    }\n",
              "\n",
              "    [theme=dark] .colab-df-convert:hover {\n",
              "      background-color: #434B5C;\n",
              "      box-shadow: 0px 1px 3px 1px rgba(0, 0, 0, 0.15);\n",
              "      filter: drop-shadow(0px 1px 2px rgba(0, 0, 0, 0.3));\n",
              "      fill: #FFFFFF;\n",
              "    }\n",
              "  </style>\n",
              "\n",
              "      <script>\n",
              "        const buttonEl =\n",
              "          document.querySelector('#df-ae31c009-120d-4021-8bfe-9f1eaeff661d button.colab-df-convert');\n",
              "        buttonEl.style.display =\n",
              "          google.colab.kernel.accessAllowed ? 'block' : 'none';\n",
              "\n",
              "        async function convertToInteractive(key) {\n",
              "          const element = document.querySelector('#df-ae31c009-120d-4021-8bfe-9f1eaeff661d');\n",
              "          const dataTable =\n",
              "            await google.colab.kernel.invokeFunction('convertToInteractive',\n",
              "                                                     [key], {});\n",
              "          if (!dataTable) return;\n",
              "\n",
              "          const docLinkHtml = 'Like what you see? Visit the ' +\n",
              "            '<a target=\"_blank\" href=https://colab.research.google.com/notebooks/data_table.ipynb>data table notebook</a>'\n",
              "            + ' to learn more about interactive tables.';\n",
              "          element.innerHTML = '';\n",
              "          dataTable['output_type'] = 'display_data';\n",
              "          await google.colab.output.renderOutput(dataTable, element);\n",
              "          const docLink = document.createElement('div');\n",
              "          docLink.innerHTML = docLinkHtml;\n",
              "          element.appendChild(docLink);\n",
              "        }\n",
              "      </script>\n",
              "    </div>\n",
              "  </div>\n",
              "  "
            ]
          },
          "metadata": {}
        }
      ]
    },
    {
      "cell_type": "code",
      "source": [
        "# Método 2\n",
        "df = pd.read_json(\n",
        "    StringIO(MessageToJson(pokedex))\n",
        ")\n",
        "display(df.head(5))"
      ],
      "metadata": {
        "colab": {
          "base_uri": "https://localhost:8080/",
          "height": 206
        },
        "id": "Q4MxeofdNpFc",
        "outputId": "3fdb0b1d-218f-4f4f-db8f-d57c87d2a2ae"
      },
      "execution_count": 99,
      "outputs": [
        {
          "output_type": "display_data",
          "data": {
            "text/plain": [
              "                                             pokemon\n",
              "0  {'id': 1, 'name': 'bulbasaur', 'order': 1, 'he...\n",
              "1  {'id': 2, 'name': 'ivysaur', 'order': 2, 'heig...\n",
              "2  {'id': 3, 'name': 'venusaur', 'order': 3, 'hei...\n",
              "3  {'id': 4, 'name': 'charmander', 'order': 5, 'h...\n",
              "4  {'id': 5, 'name': 'charmeleon', 'order': 6, 'h..."
            ],
            "text/html": [
              "\n",
              "  <div id=\"df-76575839-746a-471c-a835-e741fa77075f\">\n",
              "    <div class=\"colab-df-container\">\n",
              "      <div>\n",
              "<style scoped>\n",
              "    .dataframe tbody tr th:only-of-type {\n",
              "        vertical-align: middle;\n",
              "    }\n",
              "\n",
              "    .dataframe tbody tr th {\n",
              "        vertical-align: top;\n",
              "    }\n",
              "\n",
              "    .dataframe thead th {\n",
              "        text-align: right;\n",
              "    }\n",
              "</style>\n",
              "<table border=\"1\" class=\"dataframe\">\n",
              "  <thead>\n",
              "    <tr style=\"text-align: right;\">\n",
              "      <th></th>\n",
              "      <th>pokemon</th>\n",
              "    </tr>\n",
              "  </thead>\n",
              "  <tbody>\n",
              "    <tr>\n",
              "      <th>0</th>\n",
              "      <td>{'id': 1, 'name': 'bulbasaur', 'order': 1, 'he...</td>\n",
              "    </tr>\n",
              "    <tr>\n",
              "      <th>1</th>\n",
              "      <td>{'id': 2, 'name': 'ivysaur', 'order': 2, 'heig...</td>\n",
              "    </tr>\n",
              "    <tr>\n",
              "      <th>2</th>\n",
              "      <td>{'id': 3, 'name': 'venusaur', 'order': 3, 'hei...</td>\n",
              "    </tr>\n",
              "    <tr>\n",
              "      <th>3</th>\n",
              "      <td>{'id': 4, 'name': 'charmander', 'order': 5, 'h...</td>\n",
              "    </tr>\n",
              "    <tr>\n",
              "      <th>4</th>\n",
              "      <td>{'id': 5, 'name': 'charmeleon', 'order': 6, 'h...</td>\n",
              "    </tr>\n",
              "  </tbody>\n",
              "</table>\n",
              "</div>\n",
              "      <button class=\"colab-df-convert\" onclick=\"convertToInteractive('df-76575839-746a-471c-a835-e741fa77075f')\"\n",
              "              title=\"Convert this dataframe to an interactive table.\"\n",
              "              style=\"display:none;\">\n",
              "        \n",
              "  <svg xmlns=\"http://www.w3.org/2000/svg\" height=\"24px\"viewBox=\"0 0 24 24\"\n",
              "       width=\"24px\">\n",
              "    <path d=\"M0 0h24v24H0V0z\" fill=\"none\"/>\n",
              "    <path d=\"M18.56 5.44l.94 2.06.94-2.06 2.06-.94-2.06-.94-.94-2.06-.94 2.06-2.06.94zm-11 1L8.5 8.5l.94-2.06 2.06-.94-2.06-.94L8.5 2.5l-.94 2.06-2.06.94zm10 10l.94 2.06.94-2.06 2.06-.94-2.06-.94-.94-2.06-.94 2.06-2.06.94z\"/><path d=\"M17.41 7.96l-1.37-1.37c-.4-.4-.92-.59-1.43-.59-.52 0-1.04.2-1.43.59L10.3 9.45l-7.72 7.72c-.78.78-.78 2.05 0 2.83L4 21.41c.39.39.9.59 1.41.59.51 0 1.02-.2 1.41-.59l7.78-7.78 2.81-2.81c.8-.78.8-2.07 0-2.86zM5.41 20L4 18.59l7.72-7.72 1.47 1.35L5.41 20z\"/>\n",
              "  </svg>\n",
              "      </button>\n",
              "      \n",
              "  <style>\n",
              "    .colab-df-container {\n",
              "      display:flex;\n",
              "      flex-wrap:wrap;\n",
              "      gap: 12px;\n",
              "    }\n",
              "\n",
              "    .colab-df-convert {\n",
              "      background-color: #E8F0FE;\n",
              "      border: none;\n",
              "      border-radius: 50%;\n",
              "      cursor: pointer;\n",
              "      display: none;\n",
              "      fill: #1967D2;\n",
              "      height: 32px;\n",
              "      padding: 0 0 0 0;\n",
              "      width: 32px;\n",
              "    }\n",
              "\n",
              "    .colab-df-convert:hover {\n",
              "      background-color: #E2EBFA;\n",
              "      box-shadow: 0px 1px 2px rgba(60, 64, 67, 0.3), 0px 1px 3px 1px rgba(60, 64, 67, 0.15);\n",
              "      fill: #174EA6;\n",
              "    }\n",
              "\n",
              "    [theme=dark] .colab-df-convert {\n",
              "      background-color: #3B4455;\n",
              "      fill: #D2E3FC;\n",
              "    }\n",
              "\n",
              "    [theme=dark] .colab-df-convert:hover {\n",
              "      background-color: #434B5C;\n",
              "      box-shadow: 0px 1px 3px 1px rgba(0, 0, 0, 0.15);\n",
              "      filter: drop-shadow(0px 1px 2px rgba(0, 0, 0, 0.3));\n",
              "      fill: #FFFFFF;\n",
              "    }\n",
              "  </style>\n",
              "\n",
              "      <script>\n",
              "        const buttonEl =\n",
              "          document.querySelector('#df-76575839-746a-471c-a835-e741fa77075f button.colab-df-convert');\n",
              "        buttonEl.style.display =\n",
              "          google.colab.kernel.accessAllowed ? 'block' : 'none';\n",
              "\n",
              "        async function convertToInteractive(key) {\n",
              "          const element = document.querySelector('#df-76575839-746a-471c-a835-e741fa77075f');\n",
              "          const dataTable =\n",
              "            await google.colab.kernel.invokeFunction('convertToInteractive',\n",
              "                                                     [key], {});\n",
              "          if (!dataTable) return;\n",
              "\n",
              "          const docLinkHtml = 'Like what you see? Visit the ' +\n",
              "            '<a target=\"_blank\" href=https://colab.research.google.com/notebooks/data_table.ipynb>data table notebook</a>'\n",
              "            + ' to learn more about interactive tables.';\n",
              "          element.innerHTML = '';\n",
              "          dataTable['output_type'] = 'display_data';\n",
              "          await google.colab.output.renderOutput(dataTable, element);\n",
              "          const docLink = document.createElement('div');\n",
              "          docLink.innerHTML = docLinkHtml;\n",
              "          element.appendChild(docLink);\n",
              "        }\n",
              "      </script>\n",
              "    </div>\n",
              "  </div>\n",
              "  "
            ]
          },
          "metadata": {}
        }
      ]
    },
    {
      "cell_type": "code",
      "source": [],
      "metadata": {
        "id": "U2ZGSqTmTjCV"
      },
      "execution_count": null,
      "outputs": []
    }
  ]
}