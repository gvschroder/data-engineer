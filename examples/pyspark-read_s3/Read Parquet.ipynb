{
 "cells": [
  {
   "cell_type": "code",
   "execution_count": null,
   "id": "3b1233dd-c83c-46b1-a477-3cfaf581095f",
   "metadata": {},
   "outputs": [],
   "source": [
    "%%capture\n",
    "%%sh\n",
    "rm -rf /tmp/jars\n",
    "mkdir /tmp/jars\n",
    "wget https://repo1.maven.org/maven2/org/apache/hadoop/hadoop-aws/3.3.1/hadoop-aws-3.3.1.jar -O /tmp/jars/hadoop-aws-3.3.1.jar\n",
    "wget https://repo1.maven.org/maven2/com/amazonaws/aws-java-sdk-core/1.11.901/aws-java-sdk-core-1.11.901.jar -O /tmp/jars/aws-java-sdk-core-1.11.901.jar\n",
    "wget https://repo1.maven.org/maven2/com/amazonaws/aws-java-sdk-s3/1.11.901/aws-java-sdk-s3-1.11.901.jar -O /tmp/jars/aws-java-sdk-s3-1.11.901.jar\n",
    "wget https://repo1.maven.org/maven2/com/amazonaws/aws-java-sdk/1.11.901/aws-java-sdk-1.11.901.jar -O /tmp/jars/aws-java-sdk-1.11.901.jar\n",
    "wget https://repo1.maven.org/maven2/com/amazonaws/aws-java-sdk-dynamodb/1.11.901/aws-java-sdk-dynamodb-1.11.901.jar -O /tmp/jars/aws-java-sdk-dynamodb-1.11.901.jar\n"
   ]
  },
  {
   "cell_type": "code",
   "execution_count": null,
   "id": "986cae54-64a7-450a-9d1c-b03e0178a7c5",
   "metadata": {},
   "outputs": [],
   "source": [
    "import configparser\n",
    "import os\n",
    "\n",
    "from pyspark.sql import SparkSession\n",
    "from pyspark.sql import types as T\n",
    "from pyspark.sql import functions as F"
   ]
  },
  {
   "cell_type": "code",
   "execution_count": null,
   "id": "79c68a0e-334a-47ec-a227-8a1b979e9853",
   "metadata": {},
   "outputs": [],
   "source": [
    "config = configparser.ConfigParser()\n",
    "config.read('/home/jovyan/.aws/credentials')\n",
    "credencials = {}\n",
    "for key, value in config['default'].items():\n",
    "    credencials[key] = value\n",
    "\n",
    "spark_jars = []\n",
    "for root, dirs, files in os.walk(\"/tmp/jars\"):\n",
    "    for filename in files:\n",
    "        spark_jars.append(root + '/' + filename)\n"
   ]
  },
  {
   "cell_type": "code",
   "execution_count": null,
   "id": "ed0b08ac-1977-4046-941f-0d9b7c3075d4",
   "metadata": {},
   "outputs": [],
   "source": [
    "spark = SparkSession \\\n",
    "    .builder \\\n",
    "    .config(\"spark.sql.sources.partitionOverwriteMode\", \"dynamic\") \\\n",
    "    .config(\"spark.sql.caseSensitive\", True) \\\n",
    "    .config(\"spark.hadoop.fs.s3a.access.key\", credencials['aws_access_key_id']) \\\n",
    "    .config(\"spark.hadoop.fs.s3a.secret.key\", credencials['aws_secret_access_key']) \\\n",
    "    .config(\"spark.hadoop.fs.s3a.endpoint\", f\"s3-{credencials['region']}.amazonaws.com\") \\\n",
    "    .config(\"spark.hadoop.fs.s3a.impl\", \"org.apache.hadoop.fs.s3a.S3AFileSystem\") \\\n",
    "    .config(\"spark.hadoop.fs.s3a.path.style.access\", True) \\\n",
    "    .config(\"com.amazonaws.services.s3.enableV4\", True) \\\n",
    "    .config(\"spark.executor.extraJavaOptions\", \"-Dcom.amazonaws.services.s3.enableV4=true\") \\\n",
    "    .config(\"spark.sql.repl.eagerEval.enabled\", True) \\\n",
    "    .config(\"spark.sql.repl.eagerEval.truncate\", -1,) \\\n",
    "    .config(\"spark.sql.repl.eagerEval.maxNumRows\", 6) \\\n",
    "    .config(\"spark.jars\", ','.join(spark_jars)) \\\n",
    "    .appName(\"catch_pokemons\") \\\n",
    "    .getOrCreate()\n"
   ]
  },
  {
   "cell_type": "code",
   "execution_count": null,
   "id": "f1e92b6d-cc6c-4562-bb0a-d4f5be937ab3",
   "metadata": {},
   "outputs": [],
   "source": [
    "bucket = \"<bucket_name>\"\n",
    "prefix = \"<object_prefix>\"\n",
    "s3_path = f\"s3a://{bucket}/{prefix}\"\n",
    "df = spark.read.parquet(s3_path)\n",
    "\n",
    "df"
   ]
  },
  {
   "cell_type": "code",
   "execution_count": null,
   "id": "1dfa67e9-6bce-415e-9dcd-609f57ad3332",
   "metadata": {},
   "outputs": [],
   "source": []
  }
 ],
 "metadata": {
  "kernelspec": {
   "display_name": "Python 3 (ipykernel)",
   "language": "python",
   "name": "python3"
  },
  "language_info": {
   "codemirror_mode": {
    "name": "ipython",
    "version": 3
   },
   "file_extension": ".py",
   "mimetype": "text/x-python",
   "name": "python",
   "nbconvert_exporter": "python",
   "pygments_lexer": "ipython3",
   "version": "3.9.7"
  }
 },
 "nbformat": 4,
 "nbformat_minor": 5
}
