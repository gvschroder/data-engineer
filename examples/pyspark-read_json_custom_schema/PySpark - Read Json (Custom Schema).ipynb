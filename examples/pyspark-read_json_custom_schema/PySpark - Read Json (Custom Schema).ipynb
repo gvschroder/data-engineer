{
 "cells": [
  {
   "cell_type": "markdown",
   "id": "b53bc15f-0dce-4b23-98e4-0e1a1672b3a8",
   "metadata": {},
   "source": [
    "# PySpark - Read Json PokeAPI (Custom Schema) \n",
    "\n",
    "Este projeto tem o objetivo de realizar a conversão de uma estrutura (json/dict) para um schema(StructType) que será utilizado na criação de um dataframe.<br>\n",
    "\n",
    "A estrutura definida para a conversão é similar a estrura do json original, porém, ao invés de conter o valor do atributo ele é substituido pela tipagem desejada.<br>\n",
    "\n",
    "| Spark Type | Json Type | Spark Type | Json Type | Spark Type | Json Type |\n",
    "| --- | --- | --- | --- | --- | --- |\n",
    "| DataType | data | NullType | void | StructType | struct |\n",
    "| StringType | string | BinaryType | binary | MapType | map |\n",
    "| BooleanType | boolean | DateType | date | ArrayType | array |\n",
    "| TimestampType | timestamp | DecimalType | decimal | ShortType | short |\n",
    "| DoubleType | double | FloatType | float | LongType | long |\n",
    "| ByteType | byte | IntegerType | integer |  |  |\n",
    "\n",
    "## Referências\n",
    "\n",
    "| Descrição | URL |\n",
    "| --- | --- |\n",
    "| PySpark Read JSON file into DataFrame | https://sparkbyexamples.com/pyspark/pyspark-read-json-file-into-dataframe/#custom-schema |\n",
    "| PySpark StructType & StructField Explained with Examples | https://sparkbyexamples.com/pyspark/pyspark-structtype-and-structfield/ |\n",
    "| PySpark Documentation - StructType | https://spark.apache.org/docs/latest/api/python/reference/api/pyspark.sql.types.StructType.html |\n",
    "\n"
   ]
  },
  {
   "cell_type": "code",
   "execution_count": 1,
   "id": "5be9a88f-aedc-46e3-a3c7-25ae1fae42f8",
   "metadata": {},
   "outputs": [],
   "source": [
    "from IPython import display as ipy_display\n",
    "import pyspark.sql.functions as F\n",
    "from pyspark.sql import SparkSession\n",
    "from pyspark.sql import types as T\n",
    "import requests\n",
    "import json"
   ]
  },
  {
   "cell_type": "code",
   "execution_count": 2,
   "id": "993c3e15-56c0-4843-80fc-70f680267993",
   "metadata": {},
   "outputs": [],
   "source": [
    "spark = SparkSession \\\n",
    "    .builder \\\n",
    "    .config(\"spark.sql.sources.partitionOverwriteMode\", \"dynamic\") \\\n",
    "    .config(\"spark.sql.caseSensitive\", True) \\\n",
    "    .config(\"spark.sql.repl.eagerEval.enabled\",True) \\\n",
    "    .appName(\"catch_pokemons\") \\\n",
    "    .getOrCreate()"
   ]
  },
  {
   "cell_type": "code",
   "execution_count": 3,
   "id": "b06bba88-fef0-47df-afa5-d3898529fc1c",
   "metadata": {},
   "outputs": [],
   "source": [
    "def display(df, n=5):\n",
    "    return ipy_display.HTML(df.limit(n).toPandas().to_html(index=False))"
   ]
  },
  {
   "cell_type": "code",
   "execution_count": 4,
   "id": "e89e59c8-81f1-4c69-9ad7-bf536698164d",
   "metadata": {},
   "outputs": [],
   "source": [
    "SPARK_TYPES = {}\n",
    "for _ in T.__all__:\n",
    "    try:\n",
    "        SPARK_TYPES[eval(f\"T.{_}.typeName()\")] = _\n",
    "    except:\n",
    "        pass"
   ]
  },
  {
   "cell_type": "code",
   "execution_count": 5,
   "id": "219f63ea-e5fc-4bbc-8bb2-63f72f60f288",
   "metadata": {},
   "outputs": [],
   "source": [
    "def dict_to_spark_schema(input_data, parent_key=None, output_schema=None):\n",
    "    if not bool(output_schema):\n",
    "        output_schema = {\n",
    "            \"fields\": [],\n",
    "            \"type\": \"struct\"\n",
    "        }\n",
    "        \n",
    "    if isinstance(input_data, dict):\n",
    "        for key, value in input_data.items():\n",
    "            base = {\n",
    "                \"metadata\": {},\n",
    "                \"name\": key,\n",
    "                \"nullable\": True,\n",
    "                \"type\": {}\n",
    "            }\n",
    "            base[\"type\"] = dict_to_spark_schema(value, key, base[\"type\"])\n",
    "            output_schema[\"fields\"].append(base)\n",
    "    elif isinstance(input_data, list):\n",
    "        base = {\n",
    "            \"containsNull\": True,\n",
    "            \"elementType\": {},\n",
    "            \"type\": \"array\"\n",
    "        }\n",
    "        for el in input_data:\n",
    "            base['elementType'] = dict_to_spark_schema(el, None, base['elementType'])\n",
    "            output_schema.pop(\"fields\")\n",
    "            output_schema.update(base) \n",
    "    else:        \n",
    "        output_schema = input_data\n",
    "    return output_schema\n",
    "\n",
    "def get_spark_struct_object(input_data):\n",
    "    struct_object = dict_to_spark_schema(input_data)\n",
    "    return T.StructType.fromJson(struct_object)"
   ]
  },
  {
   "cell_type": "code",
   "execution_count": 6,
   "id": "d954e7fc-dfeb-45ef-ba78-421dd07d00e8",
   "metadata": {},
   "outputs": [],
   "source": [
    "def get_schemas(name):\n",
    "    map_schemas = {\n",
    "        \"pokemon\": {\n",
    "            \"abilities\": [{\n",
    "              \"ability\": {\"name\": \"string\", \"url\": \"string\"},\n",
    "              \"is_hidden\": \"boolean\",\n",
    "              \"slot\": \"integer\"\n",
    "            }],\n",
    "            \"base_experience\": \"integer\",\n",
    "            \"forms\": [{\"name\": \"string\", \"url\": \"string\"}],\n",
    "            \"height\": \"integer\",\n",
    "            \"id\": \"integer\",\n",
    "            \"is_default\": \"boolean\",\n",
    "            \"location_area_encounters\": \"string\",\n",
    "            \"name\": \"string\",\n",
    "            \"order\": \"integer\",\n",
    "            \"species\": {\"name\": \"string\", \"url\": \"string\"},\n",
    "            \"types\": [{\n",
    "              \"slot\": \"integer\",\n",
    "              \"type\": {\"name\": \"string\", \"url\": \"string\"}\n",
    "            }],\n",
    "            \"weight\": \"integer\"\n",
    "        },\n",
    "        \"type\": {\n",
    "            \"damage_relations\": {\n",
    "                \"double_damage_from\": [{\"name\": \"string\", \"url\": \"string\"}],\n",
    "                \"double_damage_to\": [{\"name\": \"string\", \"url\": \"string\"}],\n",
    "                \"half_damage_from\": [{\"name\": \"string\", \"url\": \"string\"}],\n",
    "                \"half_damage_to\": [{\"name\": \"string\", \"url\": \"string\"}],\n",
    "                \"no_damage_from\": [{\"name\": \"string\", \"url\": \"string\"}],\n",
    "                \"no_damage_to\": [{\"name\": \"string\", \"url\": \"string\"}]\n",
    "            },\n",
    "            \"id\": \"integer\",\n",
    "            \"name\": \"string\"\n",
    "        }\n",
    "    }\n",
    "    \n",
    "    return map_schemas[name]\n",
    "\n",
    "def catch_pokemons(total, limit=10):\n",
    "    pokemons = []\n",
    "    for offset in range(0, total, limit):\n",
    "        if (total - offset) < limit:\n",
    "            limit = (total - offset)\n",
    "        response = requests.get(f'https://pokeapi.co/api/v2/pokemon/?limit={limit}&offset={offset}')\n",
    "        for item in response.json().get('results', []):\n",
    "            print(item['url'])\n",
    "            pokemons.append(requests.get(item['url']).json())\n",
    "    return pokemons\n",
    "\n",
    "def get_types(total, limit=10):\n",
    "    types = []\n",
    "    for offset in range(0, total, limit):\n",
    "        if (total - offset) < limit:\n",
    "            limit = (total - offset)\n",
    "        response = requests.get(f'https://pokeapi.co/api/v2/type/?limit={limit}&offset={offset}')\n",
    "        for item in response.json().get('results', []):\n",
    "            print(item['url'])\n",
    "            types.append(requests.get(item['url']).json())\n",
    "    return types\n",
    "\n",
    "def pokeapi_spark(total_items, schema_name):\n",
    "    struct_object= get_spark_struct_object(get_schemas(schema_name))\n",
    "    pokeapi_dataset = None\n",
    "    if schema_name == \"pokemon\":\n",
    "        pokeapi_dataset = catch_pokemons(total_items)\n",
    "    elif schema_name == \"type\":\n",
    "        pokeapi_dataset = get_types(total_items)\n",
    "    df = spark.createDataFrame(pokeapi_dataset, struct_object)\n",
    "    return df"
   ]
  },
  {
   "cell_type": "code",
   "execution_count": 7,
   "id": "cf4f2da8-457f-42fc-b316-471f2270f4a0",
   "metadata": {},
   "outputs": [
    {
     "name": "stdout",
     "output_type": "stream",
     "text": [
      "https://pokeapi.co/api/v2/pokemon/1/\n",
      "https://pokeapi.co/api/v2/pokemon/2/\n",
      "https://pokeapi.co/api/v2/pokemon/3/\n",
      "https://pokeapi.co/api/v2/pokemon/4/\n",
      "https://pokeapi.co/api/v2/pokemon/5/\n",
      "https://pokeapi.co/api/v2/pokemon/6/\n",
      "https://pokeapi.co/api/v2/pokemon/7/\n",
      "https://pokeapi.co/api/v2/pokemon/8/\n",
      "https://pokeapi.co/api/v2/pokemon/9/\n",
      "https://pokeapi.co/api/v2/pokemon/10/\n"
     ]
    }
   ],
   "source": [
    "df_pokemons = pokeapi_spark(10, \"pokemon\")"
   ]
  },
  {
   "cell_type": "code",
   "execution_count": 8,
   "id": "f8b8e486-0482-4d29-9a0e-fb26e56128df",
   "metadata": {},
   "outputs": [
    {
     "data": {
      "text/html": [
       "<table border=\"1\" class=\"dataframe\">\n",
       "  <thead>\n",
       "    <tr style=\"text-align: right;\">\n",
       "      <th>abilities</th>\n",
       "      <th>base_experience</th>\n",
       "      <th>forms</th>\n",
       "      <th>height</th>\n",
       "      <th>id</th>\n",
       "      <th>is_default</th>\n",
       "      <th>location_area_encounters</th>\n",
       "      <th>name</th>\n",
       "      <th>order</th>\n",
       "      <th>species</th>\n",
       "      <th>types</th>\n",
       "      <th>weight</th>\n",
       "    </tr>\n",
       "  </thead>\n",
       "  <tbody>\n",
       "    <tr>\n",
       "      <td>[((overgrow, https://pokeapi.co/api/v2/ability/65/), False, 1), ((chlorophyll, https://pokeapi.co/api/v2/ability/34/), True, 3)]</td>\n",
       "      <td>64</td>\n",
       "      <td>[(bulbasaur, https://pokeapi.co/api/v2/pokemon-form/1/)]</td>\n",
       "      <td>7</td>\n",
       "      <td>1</td>\n",
       "      <td>True</td>\n",
       "      <td>https://pokeapi.co/api/v2/pokemon/1/encounters</td>\n",
       "      <td>bulbasaur</td>\n",
       "      <td>1</td>\n",
       "      <td>(bulbasaur, https://pokeapi.co/api/v2/pokemon-species/1/)</td>\n",
       "      <td>[(1, (grass, https://pokeapi.co/api/v2/type/12/)), (2, (poison, https://pokeapi.co/api/v2/type/4/))]</td>\n",
       "      <td>69</td>\n",
       "    </tr>\n",
       "    <tr>\n",
       "      <td>[((overgrow, https://pokeapi.co/api/v2/ability/65/), False, 1), ((chlorophyll, https://pokeapi.co/api/v2/ability/34/), True, 3)]</td>\n",
       "      <td>142</td>\n",
       "      <td>[(ivysaur, https://pokeapi.co/api/v2/pokemon-form/2/)]</td>\n",
       "      <td>10</td>\n",
       "      <td>2</td>\n",
       "      <td>True</td>\n",
       "      <td>https://pokeapi.co/api/v2/pokemon/2/encounters</td>\n",
       "      <td>ivysaur</td>\n",
       "      <td>2</td>\n",
       "      <td>(ivysaur, https://pokeapi.co/api/v2/pokemon-species/2/)</td>\n",
       "      <td>[(1, (grass, https://pokeapi.co/api/v2/type/12/)), (2, (poison, https://pokeapi.co/api/v2/type/4/))]</td>\n",
       "      <td>130</td>\n",
       "    </tr>\n",
       "    <tr>\n",
       "      <td>[((overgrow, https://pokeapi.co/api/v2/ability/65/), False, 1), ((chlorophyll, https://pokeapi.co/api/v2/ability/34/), True, 3)]</td>\n",
       "      <td>236</td>\n",
       "      <td>[(venusaur, https://pokeapi.co/api/v2/pokemon-form/3/)]</td>\n",
       "      <td>20</td>\n",
       "      <td>3</td>\n",
       "      <td>True</td>\n",
       "      <td>https://pokeapi.co/api/v2/pokemon/3/encounters</td>\n",
       "      <td>venusaur</td>\n",
       "      <td>3</td>\n",
       "      <td>(venusaur, https://pokeapi.co/api/v2/pokemon-species/3/)</td>\n",
       "      <td>[(1, (grass, https://pokeapi.co/api/v2/type/12/)), (2, (poison, https://pokeapi.co/api/v2/type/4/))]</td>\n",
       "      <td>1000</td>\n",
       "    </tr>\n",
       "    <tr>\n",
       "      <td>[((blaze, https://pokeapi.co/api/v2/ability/66/), False, 1), ((solar-power, https://pokeapi.co/api/v2/ability/94/), True, 3)]</td>\n",
       "      <td>62</td>\n",
       "      <td>[(charmander, https://pokeapi.co/api/v2/pokemon-form/4/)]</td>\n",
       "      <td>6</td>\n",
       "      <td>4</td>\n",
       "      <td>True</td>\n",
       "      <td>https://pokeapi.co/api/v2/pokemon/4/encounters</td>\n",
       "      <td>charmander</td>\n",
       "      <td>5</td>\n",
       "      <td>(charmander, https://pokeapi.co/api/v2/pokemon-species/4/)</td>\n",
       "      <td>[(1, (fire, https://pokeapi.co/api/v2/type/10/))]</td>\n",
       "      <td>85</td>\n",
       "    </tr>\n",
       "    <tr>\n",
       "      <td>[((blaze, https://pokeapi.co/api/v2/ability/66/), False, 1), ((solar-power, https://pokeapi.co/api/v2/ability/94/), True, 3)]</td>\n",
       "      <td>142</td>\n",
       "      <td>[(charmeleon, https://pokeapi.co/api/v2/pokemon-form/5/)]</td>\n",
       "      <td>11</td>\n",
       "      <td>5</td>\n",
       "      <td>True</td>\n",
       "      <td>https://pokeapi.co/api/v2/pokemon/5/encounters</td>\n",
       "      <td>charmeleon</td>\n",
       "      <td>6</td>\n",
       "      <td>(charmeleon, https://pokeapi.co/api/v2/pokemon-species/5/)</td>\n",
       "      <td>[(1, (fire, https://pokeapi.co/api/v2/type/10/))]</td>\n",
       "      <td>190</td>\n",
       "    </tr>\n",
       "  </tbody>\n",
       "</table>"
      ],
      "text/plain": [
       "<IPython.core.display.HTML object>"
      ]
     },
     "execution_count": 8,
     "metadata": {},
     "output_type": "execute_result"
    }
   ],
   "source": [
    "display(df_pokemons, n=5)"
   ]
  },
  {
   "cell_type": "code",
   "execution_count": 9,
   "id": "f407a362-e6f4-4c54-984c-a3a6078d440a",
   "metadata": {},
   "outputs": [
    {
     "data": {
      "text/html": [
       "<table border='1'>\n",
       "<tr><th>id</th><th>name</th><th>type_1</th><th>type_2</th><th>base_experience</th><th>weight</th><th>height</th></tr>\n",
       "<tr><td>1</td><td>bulbasaur</td><td>grass</td><td>poison</td><td>64</td><td>69</td><td>7</td></tr>\n",
       "<tr><td>2</td><td>ivysaur</td><td>grass</td><td>poison</td><td>142</td><td>130</td><td>10</td></tr>\n",
       "<tr><td>3</td><td>venusaur</td><td>grass</td><td>poison</td><td>236</td><td>1000</td><td>20</td></tr>\n",
       "<tr><td>4</td><td>charmander</td><td>fire</td><td>null</td><td>62</td><td>85</td><td>6</td></tr>\n",
       "<tr><td>5</td><td>charmeleon</td><td>fire</td><td>null</td><td>142</td><td>190</td><td>11</td></tr>\n",
       "<tr><td>6</td><td>charizard</td><td>fire</td><td>flying</td><td>240</td><td>905</td><td>17</td></tr>\n",
       "<tr><td>7</td><td>squirtle</td><td>water</td><td>null</td><td>63</td><td>90</td><td>5</td></tr>\n",
       "<tr><td>8</td><td>wartortle</td><td>water</td><td>null</td><td>142</td><td>225</td><td>10</td></tr>\n",
       "<tr><td>9</td><td>blastoise</td><td>water</td><td>null</td><td>239</td><td>855</td><td>16</td></tr>\n",
       "<tr><td>10</td><td>caterpie</td><td>bug</td><td>null</td><td>39</td><td>29</td><td>3</td></tr>\n",
       "</table>\n"
      ],
      "text/plain": [
       "+---+----------+------+------+---------------+------+------+\n",
       "| id|      name|type_1|type_2|base_experience|weight|height|\n",
       "+---+----------+------+------+---------------+------+------+\n",
       "|  1| bulbasaur| grass|poison|             64|    69|     7|\n",
       "|  2|   ivysaur| grass|poison|            142|   130|    10|\n",
       "|  3|  venusaur| grass|poison|            236|  1000|    20|\n",
       "|  4|charmander|  fire|  null|             62|    85|     6|\n",
       "|  5|charmeleon|  fire|  null|            142|   190|    11|\n",
       "|  6| charizard|  fire|flying|            240|   905|    17|\n",
       "|  7|  squirtle| water|  null|             63|    90|     5|\n",
       "|  8| wartortle| water|  null|            142|   225|    10|\n",
       "|  9| blastoise| water|  null|            239|   855|    16|\n",
       "| 10|  caterpie|   bug|  null|             39|    29|     3|\n",
       "+---+----------+------+------+---------------+------+------+"
      ]
     },
     "execution_count": 9,
     "metadata": {},
     "output_type": "execute_result"
    }
   ],
   "source": [
    "df_pokemons.select(\n",
    "    \"id\",\n",
    "    \"name\",\n",
    "    df_pokemons.types[0].type['name'].alias('type_1'),\n",
    "    df_pokemons.types[1].type['name'].alias('type_2'),\n",
    "    \"base_experience\",\n",
    "    \"weight\",\n",
    "    \"height\"\n",
    ")"
   ]
  },
  {
   "cell_type": "code",
   "execution_count": 10,
   "id": "af3a7a8b-4673-45dd-8a3d-1b2d140f417e",
   "metadata": {},
   "outputs": [
    {
     "name": "stdout",
     "output_type": "stream",
     "text": [
      "https://pokeapi.co/api/v2/type/1/\n",
      "https://pokeapi.co/api/v2/type/2/\n",
      "https://pokeapi.co/api/v2/type/3/\n",
      "https://pokeapi.co/api/v2/type/4/\n",
      "https://pokeapi.co/api/v2/type/5/\n",
      "https://pokeapi.co/api/v2/type/6/\n",
      "https://pokeapi.co/api/v2/type/7/\n",
      "https://pokeapi.co/api/v2/type/8/\n",
      "https://pokeapi.co/api/v2/type/9/\n",
      "https://pokeapi.co/api/v2/type/10/\n"
     ]
    }
   ],
   "source": [
    "df_types = pokeapi_spark(10, \"type\")"
   ]
  },
  {
   "cell_type": "code",
   "execution_count": 11,
   "id": "0628a6f9-14ad-413e-b8a2-d5a5da4ea75c",
   "metadata": {},
   "outputs": [
    {
     "data": {
      "text/html": [
       "<table border=\"1\" class=\"dataframe\">\n",
       "  <thead>\n",
       "    <tr style=\"text-align: right;\">\n",
       "      <th>damage_relations</th>\n",
       "      <th>id</th>\n",
       "      <th>name</th>\n",
       "    </tr>\n",
       "  </thead>\n",
       "  <tbody>\n",
       "    <tr>\n",
       "      <td>([(fighting, https://pokeapi.co/api/v2/type/2/)], [], [], [(rock, https://pokeapi.co/api/v2/type/6/), (steel, https://pokeapi.co/api/v2/type/9/)], [(ghost, https://pokeapi.co/api/v2/type/8/)], [(ghost, https://pokeapi.co/api/v2/type/8/)])</td>\n",
       "      <td>1</td>\n",
       "      <td>normal</td>\n",
       "    </tr>\n",
       "    <tr>\n",
       "      <td>([(flying, https://pokeapi.co/api/v2/type/3/), (psychic, https://pokeapi.co/api/v2/type/14/), (fairy, https://pokeapi.co/api/v2/type/18/)], [(normal, https://pokeapi.co/api/v2/type/1/), (rock, https://pokeapi.co/api/v2/type/6/), (steel, https://pokeapi.co/api/v2/type/9/), (ice, https://pokeapi.co/api/v2/type/15/), (dark, https://pokeapi.co/api/v2/type/17/)], [(rock, https://pokeapi.co/api/v2/type/6/), (bug, https://pokeapi.co/api/v2/type/7/), (dark, https://pokeapi.co/api/v2/type/17/)], [(flying, https://pokeapi.co/api/v2/type/3/), (poison, https://pokeapi.co/api/v2/type/4/), (bug, https://pokeapi.co/api/v2/type/7/), (psychic, https://pokeapi.co/api/v2/type/14/), (fairy, https://pokeapi.co/api/v2/type/18/)], [], [(ghost, https://pokeapi.co/api/v2/type/8/)])</td>\n",
       "      <td>2</td>\n",
       "      <td>fighting</td>\n",
       "    </tr>\n",
       "    <tr>\n",
       "      <td>([(rock, https://pokeapi.co/api/v2/type/6/), (electric, https://pokeapi.co/api/v2/type/13/), (ice, https://pokeapi.co/api/v2/type/15/)], [(fighting, https://pokeapi.co/api/v2/type/2/), (bug, https://pokeapi.co/api/v2/type/7/), (grass, https://pokeapi.co/api/v2/type/12/)], [(fighting, https://pokeapi.co/api/v2/type/2/), (bug, https://pokeapi.co/api/v2/type/7/), (grass, https://pokeapi.co/api/v2/type/12/)], [(rock, https://pokeapi.co/api/v2/type/6/), (steel, https://pokeapi.co/api/v2/type/9/), (electric, https://pokeapi.co/api/v2/type/13/)], [(ground, https://pokeapi.co/api/v2/type/5/)], [])</td>\n",
       "      <td>3</td>\n",
       "      <td>flying</td>\n",
       "    </tr>\n",
       "    <tr>\n",
       "      <td>([(ground, https://pokeapi.co/api/v2/type/5/), (psychic, https://pokeapi.co/api/v2/type/14/)], [(grass, https://pokeapi.co/api/v2/type/12/), (fairy, https://pokeapi.co/api/v2/type/18/)], [(fighting, https://pokeapi.co/api/v2/type/2/), (poison, https://pokeapi.co/api/v2/type/4/), (bug, https://pokeapi.co/api/v2/type/7/), (grass, https://pokeapi.co/api/v2/type/12/), (fairy, https://pokeapi.co/api/v2/type/18/)], [(poison, https://pokeapi.co/api/v2/type/4/), (ground, https://pokeapi.co/api/v2/type/5/), (rock, https://pokeapi.co/api/v2/type/6/), (ghost, https://pokeapi.co/api/v2/type/8/)], [], [(steel, https://pokeapi.co/api/v2/type/9/)])</td>\n",
       "      <td>4</td>\n",
       "      <td>poison</td>\n",
       "    </tr>\n",
       "    <tr>\n",
       "      <td>([(water, https://pokeapi.co/api/v2/type/11/), (grass, https://pokeapi.co/api/v2/type/12/), (ice, https://pokeapi.co/api/v2/type/15/)], [(poison, https://pokeapi.co/api/v2/type/4/), (rock, https://pokeapi.co/api/v2/type/6/), (steel, https://pokeapi.co/api/v2/type/9/), (fire, https://pokeapi.co/api/v2/type/10/), (electric, https://pokeapi.co/api/v2/type/13/)], [(poison, https://pokeapi.co/api/v2/type/4/), (rock, https://pokeapi.co/api/v2/type/6/)], [(bug, https://pokeapi.co/api/v2/type/7/), (grass, https://pokeapi.co/api/v2/type/12/)], [(electric, https://pokeapi.co/api/v2/type/13/)], [(flying, https://pokeapi.co/api/v2/type/3/)])</td>\n",
       "      <td>5</td>\n",
       "      <td>ground</td>\n",
       "    </tr>\n",
       "  </tbody>\n",
       "</table>"
      ],
      "text/plain": [
       "<IPython.core.display.HTML object>"
      ]
     },
     "execution_count": 11,
     "metadata": {},
     "output_type": "execute_result"
    }
   ],
   "source": [
    "display(df_types, n=5)"
   ]
  },
  {
   "cell_type": "code",
   "execution_count": 12,
   "id": "78970bd3-5552-448a-9d2e-c347e0cf6022",
   "metadata": {},
   "outputs": [
    {
     "data": {
      "text/html": [
       "<table border='1'>\n",
       "<tr><th>id</th><th>name</th><th>double_damage_from_1</th><th>double_damage_to_1</th><th>half_damage_from_1</th><th>half_damage_to_1</th><th>no_damage_from_1</th><th>no_damage_to_1</th></tr>\n",
       "<tr><td>1</td><td>normal</td><td>https://pokeapi.c...</td><td>null</td><td>null</td><td>https://pokeapi.c...</td><td>https://pokeapi.c...</td><td>https://pokeapi.c...</td></tr>\n",
       "<tr><td>2</td><td>fighting</td><td>https://pokeapi.c...</td><td>https://pokeapi.c...</td><td>https://pokeapi.c...</td><td>https://pokeapi.c...</td><td>null</td><td>https://pokeapi.c...</td></tr>\n",
       "<tr><td>3</td><td>flying</td><td>https://pokeapi.c...</td><td>https://pokeapi.c...</td><td>https://pokeapi.c...</td><td>https://pokeapi.c...</td><td>https://pokeapi.c...</td><td>null</td></tr>\n",
       "<tr><td>4</td><td>poison</td><td>https://pokeapi.c...</td><td>https://pokeapi.c...</td><td>https://pokeapi.c...</td><td>https://pokeapi.c...</td><td>null</td><td>https://pokeapi.c...</td></tr>\n",
       "<tr><td>5</td><td>ground</td><td>https://pokeapi.c...</td><td>https://pokeapi.c...</td><td>https://pokeapi.c...</td><td>https://pokeapi.c...</td><td>https://pokeapi.c...</td><td>https://pokeapi.c...</td></tr>\n",
       "<tr><td>6</td><td>rock</td><td>https://pokeapi.c...</td><td>https://pokeapi.c...</td><td>https://pokeapi.c...</td><td>https://pokeapi.c...</td><td>null</td><td>null</td></tr>\n",
       "<tr><td>7</td><td>bug</td><td>https://pokeapi.c...</td><td>https://pokeapi.c...</td><td>https://pokeapi.c...</td><td>https://pokeapi.c...</td><td>null</td><td>null</td></tr>\n",
       "<tr><td>8</td><td>ghost</td><td>https://pokeapi.c...</td><td>https://pokeapi.c...</td><td>https://pokeapi.c...</td><td>https://pokeapi.c...</td><td>https://pokeapi.c...</td><td>https://pokeapi.c...</td></tr>\n",
       "<tr><td>9</td><td>steel</td><td>https://pokeapi.c...</td><td>https://pokeapi.c...</td><td>https://pokeapi.c...</td><td>https://pokeapi.c...</td><td>https://pokeapi.c...</td><td>null</td></tr>\n",
       "<tr><td>10</td><td>fire</td><td>https://pokeapi.c...</td><td>https://pokeapi.c...</td><td>https://pokeapi.c...</td><td>https://pokeapi.c...</td><td>null</td><td>null</td></tr>\n",
       "</table>\n"
      ],
      "text/plain": [
       "+---+--------+--------------------+--------------------+--------------------+--------------------+--------------------+--------------------+\n",
       "| id|    name|double_damage_from_1|  double_damage_to_1|  half_damage_from_1|    half_damage_to_1|    no_damage_from_1|      no_damage_to_1|\n",
       "+---+--------+--------------------+--------------------+--------------------+--------------------+--------------------+--------------------+\n",
       "|  1|  normal|https://pokeapi.c...|                null|                null|https://pokeapi.c...|https://pokeapi.c...|https://pokeapi.c...|\n",
       "|  2|fighting|https://pokeapi.c...|https://pokeapi.c...|https://pokeapi.c...|https://pokeapi.c...|                null|https://pokeapi.c...|\n",
       "|  3|  flying|https://pokeapi.c...|https://pokeapi.c...|https://pokeapi.c...|https://pokeapi.c...|https://pokeapi.c...|                null|\n",
       "|  4|  poison|https://pokeapi.c...|https://pokeapi.c...|https://pokeapi.c...|https://pokeapi.c...|                null|https://pokeapi.c...|\n",
       "|  5|  ground|https://pokeapi.c...|https://pokeapi.c...|https://pokeapi.c...|https://pokeapi.c...|https://pokeapi.c...|https://pokeapi.c...|\n",
       "|  6|    rock|https://pokeapi.c...|https://pokeapi.c...|https://pokeapi.c...|https://pokeapi.c...|                null|                null|\n",
       "|  7|     bug|https://pokeapi.c...|https://pokeapi.c...|https://pokeapi.c...|https://pokeapi.c...|                null|                null|\n",
       "|  8|   ghost|https://pokeapi.c...|https://pokeapi.c...|https://pokeapi.c...|https://pokeapi.c...|https://pokeapi.c...|https://pokeapi.c...|\n",
       "|  9|   steel|https://pokeapi.c...|https://pokeapi.c...|https://pokeapi.c...|https://pokeapi.c...|https://pokeapi.c...|                null|\n",
       "| 10|    fire|https://pokeapi.c...|https://pokeapi.c...|https://pokeapi.c...|https://pokeapi.c...|                null|                null|\n",
       "+---+--------+--------------------+--------------------+--------------------+--------------------+--------------------+--------------------+"
      ]
     },
     "execution_count": 12,
     "metadata": {},
     "output_type": "execute_result"
    }
   ],
   "source": [
    "df_types.select(\n",
    "    \"id\",\n",
    "    \"name\",\n",
    "    df_types.damage_relations['double_damage_from'][0][\"url\"].alias('double_damage_from_1'),\n",
    "    df_types.damage_relations['double_damage_to'][0][\"url\"].alias('double_damage_to_1'),\n",
    "    df_types.damage_relations['half_damage_from'][0][\"url\"].alias('half_damage_from_1'),\n",
    "    df_types.damage_relations['half_damage_to'][0][\"url\"].alias('half_damage_to_1'),\n",
    "    df_types.damage_relations['no_damage_from'][0][\"url\"].alias('no_damage_from_1'),\n",
    "    df_types.damage_relations['no_damage_to'][0][\"url\"].alias('no_damage_to_1')\n",
    ")"
   ]
  },
  {
   "cell_type": "code",
   "execution_count": null,
   "id": "d9e60a6b-71a8-430c-9d5a-81d2067a27f0",
   "metadata": {},
   "outputs": [],
   "source": []
  }
 ],
 "metadata": {
  "kernelspec": {
   "display_name": "Python 3 (ipykernel)",
   "language": "python",
   "name": "python3"
  },
  "language_info": {
   "codemirror_mode": {
    "name": "ipython",
    "version": 3
   },
   "file_extension": ".py",
   "mimetype": "text/x-python",
   "name": "python",
   "nbconvert_exporter": "python",
   "pygments_lexer": "ipython3",
   "version": "3.9.7"
  }
 },
 "nbformat": 4,
 "nbformat_minor": 5
}
