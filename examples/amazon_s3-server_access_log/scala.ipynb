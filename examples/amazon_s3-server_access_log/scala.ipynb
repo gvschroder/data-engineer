{
 "cells": [
  {
   "cell_type": "markdown",
   "metadata": {},
   "source": [
    "## Amazon S3 Server Access Log Format\n",
    "https://docs.aws.amazon.com/AmazonS3/latest/dev/LogFormat.html"
   ]
  },
  {
   "cell_type": "code",
   "execution_count": null,
   "metadata": {},
   "outputs": [],
   "source": [
    "import org.apache.spark.sql.SparkSession\n",
    "import org.apache.spark.sql.functions.regexp_extract\n",
    "import org.apache.spark.sql.types._"
   ]
  },
  {
   "cell_type": "code",
   "execution_count": null,
   "metadata": {},
   "outputs": [],
   "source": [
    "val schema_csv = StructType(Array(StructField(\"events\", StringType, true)))\n",
    "val df_logs = spark.read.format(\"csv\")\n",
    "                    .schema(schema_csv)\n",
    "                    .option(\"header\", \"false\")\n",
    "                    .option(\"delimiter\", \"\\\\t\")\n",
    "                    .load(s\"./assets/s3_server_access_log.txt\")"
   ]
  },
  {
   "cell_type": "code",
   "execution_count": null,
   "metadata": {},
   "outputs": [],
   "source": [
    "df_logs.select(\"events\").show(1, false)"
   ]
  },
  {
   "cell_type": "code",
   "execution_count": null,
   "metadata": {},
   "outputs": [],
   "source": [
    "var reg = \"\"\n",
    "reg += \"\"\"(\\S+)\\s\"\"\" // bucket_owner\n",
    "reg += \"\"\"(\\S+)\\s\"\"\" // bucket\n",
    "reg += \"\"\"\\[([^\\]]+)\\]\\s\"\"\" // time\n",
    "reg += \"\"\"(\\S+)\\s\"\"\" // remote_ip\n",
    "reg += \"\"\"(\\S+)\\s\"\"\" // requester\n",
    "reg += \"\"\"(\\S+)\\s\"\"\" // request_id\n",
    "reg += \"\"\"(\\S+)\\s\"\"\" // operation\n",
    "reg += \"\"\"(\\S+)\\s\"\"\" // key\n",
    "reg += \"\"\"(-|\"-\"|\"\\S+ \\S+ (?:-|\\S+)\")\\s\"\"\" // request_uri\n",
    "reg += \"\"\"(\\S+)\\s\"\"\" // http_status\n",
    "reg += \"\"\"(\\S+)\\s\"\"\" // error_code\n",
    "reg += \"\"\"(\\S+)\\s\"\"\" // bytes_sent\n",
    "reg += \"\"\"(\\S+)\\s\"\"\" // object_size\n",
    "reg += \"\"\"(\\S+)\\s\"\"\" // total_time\n",
    "reg += \"\"\"(\\S+)\\s\"\"\" // turn_around_time\n",
    "reg += \"\"\"(-|\"[^\"]+\")\\s\"\"\" // referer\n",
    "reg += \"\"\"(-|\"[^\"]+\")\\s\"\"\" // user_agent\n",
    "reg += \"\"\"(\\S+)\\s\"\"\" // version_id\n",
    "reg += \"\"\"(\\S+)\\s\"\"\" // host_id\n",
    "reg += \"\"\"(\\S+)\\s\"\"\" // signature_version\n",
    "reg += \"\"\"(\\S+)\\s\"\"\" // cipher_suite\n",
    "reg += \"\"\"(\\S+)\\s\"\"\" // authentication_type\n",
    "reg += \"\"\"(\\S+)\\s\"\"\" // host_header\n",
    "reg += \"\"\"(\\S+)\"\"\" // tls_version\n",
    "\n",
    "println(reg)\n",
    "val df_logs_parsed = df_logs.select(\n",
    "    regexp_extract($\"events\", reg, 1).as(\"bucket_owner\")\n",
    "    ,regexp_extract($\"events\", reg, 2).as(\"bucket\")\n",
    "    ,regexp_extract($\"events\", reg, 3).as(\"time\")\n",
    "    ,regexp_extract($\"events\", reg, 4).as(\"remote_ip\")\n",
    "    ,regexp_extract($\"events\", reg, 5).as(\"requester\")\n",
    "    ,regexp_extract($\"events\", reg, 6).as(\"request_id\")\n",
    "    ,regexp_extract($\"events\", reg, 7).as(\"operation\")\n",
    "    ,regexp_extract($\"events\", reg, 8).as(\"key\")\n",
    "    ,regexp_extract($\"events\", reg, 9).as(\"request_uri\")\n",
    "    ,regexp_extract($\"events\", reg, 10).as(\"http_status\")\n",
    "    ,regexp_extract($\"events\", reg, 11).as(\"error_code\")\n",
    "    ,regexp_extract($\"events\", reg, 12).as(\"bytes_sent\")\n",
    "    ,regexp_extract($\"events\", reg, 13).as(\"object_size\")\n",
    "    ,regexp_extract($\"events\", reg, 14).as(\"total_time\")\n",
    "    ,regexp_extract($\"events\", reg, 15).as(\"turn_around_time\")\n",
    "    ,regexp_extract($\"events\", reg, 16).as(\"referer\")\n",
    "    ,regexp_extract($\"events\", reg, 17).as(\"user_agent\")\n",
    "    ,regexp_extract($\"events\", reg, 18).as(\"version_id\")\n",
    "    ,regexp_extract($\"events\", reg, 19).as(\"host_id\")\n",
    "    ,regexp_extract($\"events\", reg, 20).as(\"signature_version\")\n",
    "    ,regexp_extract($\"events\", reg, 21).as(\"cipher_suite\")\n",
    "    ,regexp_extract($\"events\", reg, 22).as(\"authentication_type\")\n",
    "    ,regexp_extract($\"events\", reg, 23).as(\"host_header\")\n",
    "    ,regexp_extract($\"events\", reg, 24).as(\"tls_version\")\n",
    ")\n",
    "df_logs_parsed.select(\"*\").show(1, false)\n"
   ]
  },
  {
   "cell_type": "code",
   "execution_count": null,
   "metadata": {},
   "outputs": [],
   "source": []
  }
 ],
 "metadata": {
  "kernelspec": {
   "display_name": "spylon-kernel",
   "language": "scala",
   "name": "spylon-kernel"
  },
  "language_info": {
   "codemirror_mode": "text/x-scala",
   "file_extension": ".scala",
   "help_links": [
    {
     "text": "MetaKernel Magics",
     "url": "https://metakernel.readthedocs.io/en/latest/source/README.html"
    }
   ],
   "mimetype": "text/x-scala",
   "name": "scala",
   "pygments_lexer": "scala",
   "version": "0.4.1"
  }
 },
 "nbformat": 4,
 "nbformat_minor": 4
}
