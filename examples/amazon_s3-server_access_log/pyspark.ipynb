{
 "cells": [
  {
   "cell_type": "code",
   "execution_count": 1,
   "id": "da99200a-2372-41b0-8901-0ef0c255a235",
   "metadata": {},
   "outputs": [],
   "source": [
    "import re\n",
    "from pyspark.sql import types as T\n",
    "from pyspark.sql import SparkSession\n",
    "from pyspark.sql import Row"
   ]
  },
  {
   "cell_type": "code",
   "execution_count": 2,
   "id": "34f0b676-883e-4ff3-81dc-390018ee32c4",
   "metadata": {},
   "outputs": [],
   "source": [
    "S3_ACCESS_LOG_OUTPUT_SCHEMA = T.StructType([\n",
    "    T.StructField(\"bucket_owner\", T.StringType(), True),\n",
    "    T.StructField(\"bucket\", T.StringType(), True),\n",
    "    T.StructField(\"time\", T.StringType(), True),\n",
    "    T.StructField(\"remote_ip\", T.StringType(), True),\n",
    "    T.StructField(\"requester\", T.StringType(), True),\n",
    "    T.StructField(\"request_id\", T.StringType(), True),\n",
    "    T.StructField(\"operation\", T.StringType(), True),\n",
    "    T.StructField(\"key\", T.StringType(), True),\n",
    "    T.StructField(\"request_uri\", T.StringType(), True),\n",
    "    T.StructField(\"http_status\", T.StringType(), True),\n",
    "    T.StructField(\"error_code\", T.StringType(), True),\n",
    "    T.StructField(\"bytes_sent\", T.StringType(), True),\n",
    "    T.StructField(\"object_size\", T.StringType(), True),\n",
    "    T.StructField(\"total_time\", T.StringType(), True),\n",
    "    T.StructField(\"turn_around_time\", T.StringType(), True),\n",
    "    T.StructField(\"referer\", T.StringType(), True),\n",
    "    T.StructField(\"user_agent\", T.StringType(), True),\n",
    "    T.StructField(\"version_id\", T.StringType(), True),\n",
    "    T.StructField(\"host_id\", T.StringType(), True),\n",
    "    T.StructField(\"signature_version\", T.StringType(), True),\n",
    "    T.StructField(\"cipher_suite\", T.StringType(), True),\n",
    "    T.StructField(\"authentication_type\", T.StringType(), True),\n",
    "    T.StructField(\"host_header\", T.StringType(), True),\n",
    "    T.StructField(\"tls_version\", T.StringType(), True),\n",
    "    T.StructField(\"error_line\", T.StringType(), True)\n",
    "])"
   ]
  },
  {
   "cell_type": "code",
   "execution_count": 3,
   "id": "02868791-b7cf-411f-83cb-a1322592c5e7",
   "metadata": {},
   "outputs": [],
   "source": [
    "S3_ACCESS_LOG_PATTERN = re.compile(\n",
    "    r'(?P<bucket_owner>\\S+) ' + \n",
    "    r'(?P<bucket>\\S+) ' + \n",
    "    r'\\[(?P<time>[^\\]]+)\\] ' + \n",
    "    r'(?P<remote_ip>\\S+) ' +\n",
    "    r'(?P<requester>\\S+) ' + \n",
    "    r'(?P<request_id>\\S+) ' + \n",
    "    r'(?P<operation>\\S+) ' + \n",
    "    r'(?P<key>\\S+) ' +\n",
    "    r'(?P<request_uri>-|\"-\"|\"\\S+ \\S+ (?:-|\\S+)\") ' + \n",
    "    r'(?P<http_status>\\S+) ' + \n",
    "    r'(?P<error_code>\\S+) ' + \n",
    "    r'(?P<bytes_sent>\\S+) ' +\n",
    "    r'(?P<object_size>\\S+) ' + \n",
    "    r'(?P<total_time>\\S+) ' + \n",
    "    r'(?P<turn_around_time>\\S+) ' + \n",
    "    r'(?P<referer>-|\"[^\"]+\") ' +\n",
    "    r'(?P<user_agent>-|\"[^\"]+\") ' + \n",
    "    r'(?P<version_id>\\S+) ' + \n",
    "    r'(?P<host_id>\\S+) ' + \n",
    "    r'(?P<signature_version>\\S+) ' + \n",
    "    r'(?P<cipher_suite>\\S+) ' + \n",
    "    r'(?P<authentication_type>\\S+) ' + \n",
    "    r'(?P<host_header>\\S+) ' + \n",
    "    r'(?P<tls_version>\\S+)'\n",
    ")"
   ]
  },
  {
   "cell_type": "code",
   "execution_count": 4,
   "id": "818fe750-21f6-4c8e-a73a-e0bbc5e2c4e6",
   "metadata": {},
   "outputs": [],
   "source": [
    "spark = SparkSession \\\n",
    "    .builder \\\n",
    "    .config(\"spark.sql.sources.partitionOverwriteMode\", \"dynamic\") \\\n",
    "    .config(\"spark.sql.caseSensitive\", True) \\\n",
    "    .config(\"spark.sql.repl.eagerEval.enabled\",True) \\\n",
    "    .appName(\"s3_server_logs\") \\\n",
    "    .getOrCreate()"
   ]
  },
  {
   "cell_type": "code",
   "execution_count": 5,
   "id": "3dd358db-6908-4347-a3fe-0435953f36bb",
   "metadata": {},
   "outputs": [],
   "source": [
    "def parse_apache_log_line(logline):\n",
    "    match = S3_ACCESS_LOG_PATTERN.search(logline)\n",
    "    if match is None:\n",
    "        return Row(\n",
    "            bucket_owner=None,\n",
    "            bucket=None,\n",
    "            time=None,\n",
    "            remote_ip=None,\n",
    "            requester=None,\n",
    "            request_id=None,\n",
    "            operation=None,\n",
    "            key=None,\n",
    "            request_uri=None,\n",
    "            http_status=None,\n",
    "            error_code=None,\n",
    "            bytes_sent=None,\n",
    "            object_size=None,\n",
    "            total_time=None,\n",
    "            turn_around_time=None,\n",
    "            referer=None,\n",
    "            user_agent=None,\n",
    "            version_id=None,\n",
    "            host_id=None,\n",
    "            signature_version=None,\n",
    "            cipher_suite=None,\n",
    "            authentication_type=None,\n",
    "            host_header=None,\n",
    "            tls_version=None,\n",
    "            error_line=logline\n",
    "        )\n",
    "    \n",
    "    return Row(\n",
    "        bucket_owner=match.group('bucket_owner'),\n",
    "        bucket=match.group('bucket'),\n",
    "        time=match.group('time'),\n",
    "        remote_ip=match.group('remote_ip'),\n",
    "        requester=match.group('requester'),\n",
    "        request_id=match.group('request_id'),\n",
    "        operation=match.group('operation'),\n",
    "        key=match.group('key'),\n",
    "        request_uri=match.group('request_uri'),\n",
    "        http_status=match.group('http_status'),\n",
    "        error_code=match.group('error_code'),\n",
    "        bytes_sent=match.group('bytes_sent'),\n",
    "        object_size=match.group('object_size'),\n",
    "        total_time=match.group('total_time'),\n",
    "        turn_around_time=match.group('turn_around_time'),\n",
    "        referer=match.group('referer'),\n",
    "        user_agent=match.group('user_agent'),\n",
    "        version_id=match.group('version_id'),\n",
    "        host_id=match.group('host_id'),\n",
    "        signature_version=match.group('signature_version'),\n",
    "        cipher_suite=match.group('cipher_suite'),\n",
    "        authentication_type=match.group('authentication_type'),\n",
    "        host_header=match.group('host_header'),\n",
    "        tls_version=match.group('tls_version'),\n",
    "        error_line=None\n",
    "    )"
   ]
  },
  {
   "cell_type": "code",
   "execution_count": 6,
   "id": "98a8611f-aa66-4dc0-92c0-1b5fd2fcf74a",
   "metadata": {},
   "outputs": [],
   "source": [
    "def parser_logs(path_logs):\n",
    "    logs = spark.sparkContext.textFile(','.join(path_logs))\n",
    "    logs = logs.map(lambda x: parse_apache_log_line(x))\n",
    "    access_logs_df = spark.createDataFrame(logs, S3_ACCESS_LOG_OUTPUT_SCHEMA)\n",
    "    return access_logs_df"
   ]
  },
  {
   "cell_type": "code",
   "execution_count": 7,
   "id": "2316c6b5-08c6-4b9b-9f78-07449002018e",
   "metadata": {},
   "outputs": [
    {
     "data": {
      "text/html": [
       "<table border='1'>\n",
       "<tr><th>bucket_owner</th><th>bucket</th><th>time</th><th>remote_ip</th><th>requester</th><th>request_id</th><th>operation</th><th>key</th><th>request_uri</th><th>http_status</th><th>error_code</th><th>bytes_sent</th><th>object_size</th><th>total_time</th><th>turn_around_time</th><th>referer</th><th>user_agent</th><th>version_id</th><th>host_id</th><th>signature_version</th><th>cipher_suite</th><th>authentication_type</th><th>host_header</th><th>tls_version</th><th>error_line</th></tr>\n",
       "<tr><td>79a59df900b949e55...</td><td>awsexamplebucket1</td><td>06/Feb/2019:00:00...</td><td>192.0.2.3</td><td>79a59df900b949e55...</td><td>3E57427F3EXAMPLE</td><td>REST.GET.VERSIONING</td><td>-</td><td>&quot;GET /awsexampleb...</td><td>200</td><td>-</td><td>113</td><td>-</td><td>7</td><td>-</td><td>&quot;-&quot;</td><td>&quot;S3Console/0.4&quot;</td><td>-</td><td>s9lzHYrFp76ZVxRcp...</td><td>SigV2</td><td>ECDHE-RSA-AES128-...</td><td>AuthHeader</td><td>awsexamplebucket1...</td><td>TLSV1.1</td><td>null</td></tr>\n",
       "<tr><td>79a59df900b949e55...</td><td>awsexamplebucket1</td><td>06/Feb/2019:00:00...</td><td>192.0.2.3</td><td>79a59df900b949e55...</td><td>891CE47D2EXAMPLE</td><td>REST.GET.LOGGING_...</td><td>-</td><td>&quot;GET /awsexampleb...</td><td>200</td><td>-</td><td>242</td><td>-</td><td>11</td><td>-</td><td>&quot;-&quot;</td><td>&quot;S3Console/0.4&quot;</td><td>-</td><td>9vKBE6vMhrNiWHZmb...</td><td>SigV2</td><td>ECDHE-RSA-AES128-...</td><td>AuthHeader</td><td>awsexamplebucket1...</td><td>TLSV1.1</td><td>null</td></tr>\n",
       "<tr><td>79a59df900b949e55...</td><td>awsexamplebucket1</td><td>06/Feb/2019:00:00...</td><td>192.0.2.3</td><td>79a59df900b949e55...</td><td>A1206F460EXAMPLE</td><td>REST.GET.BUCKETPO...</td><td>-</td><td>&quot;GET /awsexampleb...</td><td>404</td><td>NoSuchBucketPolicy</td><td>297</td><td>-</td><td>38</td><td>-</td><td>&quot;-&quot;</td><td>&quot;S3Console/0.4&quot;</td><td>-</td><td>BNaBsXZQQDbssi6xM...</td><td>SigV2</td><td>ECDHE-RSA-AES128-...</td><td>AuthHeader</td><td>awsexamplebucket1...</td><td>TLSV1.1</td><td>null</td></tr>\n",
       "<tr><td>79a59df900b949e55...</td><td>awsexamplebucket1</td><td>06/Feb/2019:00:01...</td><td>192.0.2.3</td><td>79a59df900b949e55...</td><td>7B4A0FABBEXAMPLE</td><td>REST.GET.VERSIONING</td><td>-</td><td>&quot;GET /awsexampleb...</td><td>200</td><td>-</td><td>113</td><td>-</td><td>33</td><td>-</td><td>&quot;-&quot;</td><td>&quot;S3Console/0.4&quot;</td><td>-</td><td>Ke1bUcazaN1jWuUlP...</td><td>SigV2</td><td>ECDHE-RSA-AES128-...</td><td>AuthHeader</td><td>awsexamplebucket1...</td><td>TLSV1.1</td><td>null</td></tr>\n",
       "<tr><td>79a59df900b949e55...</td><td>awsexamplebucket1</td><td>06/Feb/2019:00:01...</td><td>192.0.2.3</td><td>79a59df900b949e55...</td><td>DD6CC733AEXAMPLE</td><td>REST.PUT.OBJECT</td><td>s3-dg.pdf</td><td>&quot;PUT /awsexampleb...</td><td>200</td><td>-</td><td>-</td><td>4406583</td><td>41754</td><td>28</td><td>&quot;-&quot;</td><td>&quot;S3Console/0.4&quot;</td><td>-</td><td>10S62Zv81kBW7BB6S...</td><td>SigV4</td><td>ECDHE-RSA-AES128-SHA</td><td>AuthHeader</td><td>awsexamplebucket1...</td><td>TLSV1.1</td><td>null</td></tr>\n",
       "</table>\n"
      ],
      "text/plain": [
       "+--------------------+-----------------+--------------------+---------+--------------------+----------------+--------------------+---------+--------------------+-----------+------------------+----------+-----------+----------+----------------+-------+---------------+----------+--------------------+-----------------+--------------------+-------------------+--------------------+-----------+----------+\n",
       "|        bucket_owner|           bucket|                time|remote_ip|           requester|      request_id|           operation|      key|         request_uri|http_status|        error_code|bytes_sent|object_size|total_time|turn_around_time|referer|     user_agent|version_id|             host_id|signature_version|        cipher_suite|authentication_type|         host_header|tls_version|error_line|\n",
       "+--------------------+-----------------+--------------------+---------+--------------------+----------------+--------------------+---------+--------------------+-----------+------------------+----------+-----------+----------+----------------+-------+---------------+----------+--------------------+-----------------+--------------------+-------------------+--------------------+-----------+----------+\n",
       "|79a59df900b949e55...|awsexamplebucket1|06/Feb/2019:00:00...|192.0.2.3|79a59df900b949e55...|3E57427F3EXAMPLE| REST.GET.VERSIONING|        -|\"GET /awsexampleb...|        200|                 -|       113|          -|         7|               -|    \"-\"|\"S3Console/0.4\"|         -|s9lzHYrFp76ZVxRcp...|            SigV2|ECDHE-RSA-AES128-...|         AuthHeader|awsexamplebucket1...|    TLSV1.1|      null|\n",
       "|79a59df900b949e55...|awsexamplebucket1|06/Feb/2019:00:00...|192.0.2.3|79a59df900b949e55...|891CE47D2EXAMPLE|REST.GET.LOGGING_...|        -|\"GET /awsexampleb...|        200|                 -|       242|          -|        11|               -|    \"-\"|\"S3Console/0.4\"|         -|9vKBE6vMhrNiWHZmb...|            SigV2|ECDHE-RSA-AES128-...|         AuthHeader|awsexamplebucket1...|    TLSV1.1|      null|\n",
       "|79a59df900b949e55...|awsexamplebucket1|06/Feb/2019:00:00...|192.0.2.3|79a59df900b949e55...|A1206F460EXAMPLE|REST.GET.BUCKETPO...|        -|\"GET /awsexampleb...|        404|NoSuchBucketPolicy|       297|          -|        38|               -|    \"-\"|\"S3Console/0.4\"|         -|BNaBsXZQQDbssi6xM...|            SigV2|ECDHE-RSA-AES128-...|         AuthHeader|awsexamplebucket1...|    TLSV1.1|      null|\n",
       "|79a59df900b949e55...|awsexamplebucket1|06/Feb/2019:00:01...|192.0.2.3|79a59df900b949e55...|7B4A0FABBEXAMPLE| REST.GET.VERSIONING|        -|\"GET /awsexampleb...|        200|                 -|       113|          -|        33|               -|    \"-\"|\"S3Console/0.4\"|         -|Ke1bUcazaN1jWuUlP...|            SigV2|ECDHE-RSA-AES128-...|         AuthHeader|awsexamplebucket1...|    TLSV1.1|      null|\n",
       "|79a59df900b949e55...|awsexamplebucket1|06/Feb/2019:00:01...|192.0.2.3|79a59df900b949e55...|DD6CC733AEXAMPLE|     REST.PUT.OBJECT|s3-dg.pdf|\"PUT /awsexampleb...|        200|                 -|         -|    4406583|     41754|              28|    \"-\"|\"S3Console/0.4\"|         -|10S62Zv81kBW7BB6S...|            SigV4|ECDHE-RSA-AES128-SHA|         AuthHeader|awsexamplebucket1...|    TLSV1.1|      null|\n",
       "+--------------------+-----------------+--------------------+---------+--------------------+----------------+--------------------+---------+--------------------+-----------+------------------+----------+-----------+----------+----------------+-------+---------------+----------+--------------------+-----------------+--------------------+-------------------+--------------------+-----------+----------+"
      ]
     },
     "execution_count": 7,
     "metadata": {},
     "output_type": "execute_result"
    }
   ],
   "source": [
    "access_logs_df = parser_logs(['./assets/s3_server_access_log.txt'])\n",
    "access_logs_df"
   ]
  },
  {
   "cell_type": "code",
   "execution_count": null,
   "id": "ba700d3a-5387-4cae-9068-b819bc8e45c9",
   "metadata": {},
   "outputs": [],
   "source": []
  }
 ],
 "metadata": {
  "kernelspec": {
   "display_name": "Python 3 (ipykernel)",
   "language": "python",
   "name": "python3"
  },
  "language_info": {
   "codemirror_mode": {
    "name": "ipython",
    "version": 3
   },
   "file_extension": ".py",
   "mimetype": "text/x-python",
   "name": "python",
   "nbconvert_exporter": "python",
   "pygments_lexer": "ipython3",
   "version": "3.9.7"
  }
 },
 "nbformat": 4,
 "nbformat_minor": 5
}
